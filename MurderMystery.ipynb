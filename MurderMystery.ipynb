{
  "cells": [
    {
      "cell_type": "markdown",
      "metadata": {},
      "source": [
        "# 🔍 Murder in the Machine Learning Manor 🔎\n",
        "\n",
        "## A Data Science Detective Investigation\n",
        "\n",
        "![Crime Scene](data/assets/1.png)\n",
        "\n",
        "### 📱 BREAKING NEWS 📱\n",
        "\n",
        "**TRAGEDY AT MACHINE LEARNING MANOR**: Renowned data scientist Professor Reginald \"Regressor\" Fisher has been found dead in his study during the annual International Conference on Statistical Learning. The cause of death appears to be blunt force trauma from what investigators believe to be a vintage calculating machine. Professor Fisher, famous for his work on predictive algorithms and pattern recognition, was found by his colleague Dr. Emma Clarke at approximately 10:30 PM last night. The Manor's security system recorded eight individuals on the premises at the time of the murder, all of whom are now persons of interest. Preliminary forensic analysis suggests the murder occurred between 9:15 PM and 9:45 PM, during the evening reception.\n",
        "\n",
        "**Detective's Note**: _You've been called in as data science detectives to solve this case using your machine learning expertise. Eight suspects were at the manor during the time of the murder. Each has motives, alibis, and various characteristics that may point to their guilt or innocence. A clever murderer might try to appear innocent in most ways, with only a few tell-tale signs of guilt. Your job is to analyze the evidence and identify the killer using the techniques you've learned in class._\n",
        "\n",
        "**Your Task**: Progress through this notebook, analyzing the evidence, and building different models to identify the killer. You'll discover that some models may struggle with certain evidence patterns, while others might just crack the case!"
      ]
    },
    {
      "cell_type": "markdown",
      "metadata": {},
      "source": [
        "## Case Setup\n",
        "\n",
        "First, let's import the necessary detective tools (libraries) and examine the evidence (data)."
      ]
    },
    {
      "cell_type": "code",
      "execution_count": 2,
      "metadata": {},
      "outputs": [],
      "source": [
        "# Import our detective tools\n",
        "import numpy as np\n",
        "import pandas as pd\n",
        "import matplotlib.pyplot as plt\n",
        "import seaborn as sns\n",
        "\n",
        "# Import modeling libraries\n",
        "# For modeling - import what you need\n",
        "from sklearn.model_selection import train_test_split\n",
        "from sklearn.preprocessing import StandardScaler\n",
        "from sklearn.linear_model import LinearRegression\n",
        "from sklearn.tree import DecisionTreeRegressor, plot_tree\n",
        "from sklearn.ensemble import RandomForestRegressor, GradientBoostingRegressor\n",
        "from sklearn.metrics import mean_squared_error, r2_score\n",
        "\n",
        "# Set aesthetic style of the plots\n",
        "sns.set_style('darkgrid')\n",
        "plt.rcParams['figure.figsize'] = [10, 6]\n",
        "\n",
        "np.random.seed(42)  # The answer to everything (DO NOT MODIFY THIS)"
      ]
    },
    {
      "cell_type": "markdown",
      "metadata": {},
      "source": [
        "## Case Background\n",
        "\n",
        "**Detective's Note**: _You have access to two crucial datasets:_\n",
        "\n",
        "1. **Previous Case Files** (`previous_murders_training_data.csv`): Records from previous solved cases with known guilt scores.\n",
        "2. **Current Case Evidence** (`current_murder_evidence.csv`): Evidence collected from the current murder investigation without known guilt scores.\n",
        "\n",
        "_Your mission is to analyze patterns from previous cases to determine who is most likely guilty in the current case._"
      ]
    },
    {
      "cell_type": "markdown",
      "metadata": {},
      "source": [
        "## Part 1: Examining Previous Cases\n",
        "\n",
        "![Evidence Locker](data/assets/2.png)\n",
        "\n",
        "**Detective's Note**: _Let's first examine the records from previous cases to understand what factors are associated with guilt. Just like in real detective work, understanding patterns from past crimes can help us solve the current one. Remember that criminals may leave behind different types of evidence - sometimes it's a consistent pattern of suspicious behavior, other times it might be a single, damning piece of evidence amid otherwise innocent-looking circumstances._"
      ]
    },
    {
      "cell_type": "code",
      "execution_count": 3,
      "metadata": {},
      "outputs": [
        {
          "data": {
            "text/html": [
              "<div>\n",
              "<style scoped>\n",
              "    .dataframe tbody tr th:only-of-type {\n",
              "        vertical-align: middle;\n",
              "    }\n",
              "\n",
              "    .dataframe tbody tr th {\n",
              "        vertical-align: top;\n",
              "    }\n",
              "\n",
              "    .dataframe thead th {\n",
              "        text-align: right;\n",
              "    }\n",
              "</style>\n",
              "<table border=\"1\" class=\"dataframe\">\n",
              "  <thead>\n",
              "    <tr style=\"text-align: right;\">\n",
              "      <th></th>\n",
              "      <th>suspect_id</th>\n",
              "      <th>suspect_name</th>\n",
              "      <th>age</th>\n",
              "      <th>height</th>\n",
              "      <th>weight</th>\n",
              "      <th>relationship_to_victim</th>\n",
              "      <th>physical_capability</th>\n",
              "      <th>access_to_scene</th>\n",
              "      <th>alibi_strength</th>\n",
              "      <th>motive_strength</th>\n",
              "      <th>...</th>\n",
              "      <th>time_of_arrival</th>\n",
              "      <th>time_of_departure</th>\n",
              "      <th>at_scene_during_murder</th>\n",
              "      <th>time_at_scene</th>\n",
              "      <th>had_opportunity</th>\n",
              "      <th>witness_testimony</th>\n",
              "      <th>camera_evidence</th>\n",
              "      <th>suspicious_behavior</th>\n",
              "      <th>inconsistent_statements</th>\n",
              "      <th>guilt_score</th>\n",
              "    </tr>\n",
              "  </thead>\n",
              "  <tbody>\n",
              "    <tr>\n",
              "      <th>0</th>\n",
              "      <td>4</td>\n",
              "      <td>Daniel Jones</td>\n",
              "      <td>53</td>\n",
              "      <td>69</td>\n",
              "      <td>165</td>\n",
              "      <td>colleague</td>\n",
              "      <td>0.441861</td>\n",
              "      <td>1</td>\n",
              "      <td>0.374242</td>\n",
              "      <td>5.703339</td>\n",
              "      <td>...</td>\n",
              "      <td>-33</td>\n",
              "      <td>4</td>\n",
              "      <td>1</td>\n",
              "      <td>20</td>\n",
              "      <td>1</td>\n",
              "      <td>3.311828</td>\n",
              "      <td>4.032132</td>\n",
              "      <td>0.566340</td>\n",
              "      <td>1.195932</td>\n",
              "      <td>0.951991</td>\n",
              "    </tr>\n",
              "    <tr>\n",
              "      <th>1</th>\n",
              "      <td>29</td>\n",
              "      <td>Karen White</td>\n",
              "      <td>44</td>\n",
              "      <td>74</td>\n",
              "      <td>167</td>\n",
              "      <td>colleague</td>\n",
              "      <td>0.627642</td>\n",
              "      <td>1</td>\n",
              "      <td>0.471421</td>\n",
              "      <td>4.113072</td>\n",
              "      <td>...</td>\n",
              "      <td>-14</td>\n",
              "      <td>9</td>\n",
              "      <td>1</td>\n",
              "      <td>20</td>\n",
              "      <td>1</td>\n",
              "      <td>4.279564</td>\n",
              "      <td>3.153876</td>\n",
              "      <td>1.359889</td>\n",
              "      <td>1.425823</td>\n",
              "      <td>0.903476</td>\n",
              "    </tr>\n",
              "    <tr>\n",
              "      <th>2</th>\n",
              "      <td>16</td>\n",
              "      <td>Thomas Garcia</td>\n",
              "      <td>42</td>\n",
              "      <td>66</td>\n",
              "      <td>185</td>\n",
              "      <td>stranger</td>\n",
              "      <td>0.648821</td>\n",
              "      <td>1</td>\n",
              "      <td>1.251484</td>\n",
              "      <td>6.308535</td>\n",
              "      <td>...</td>\n",
              "      <td>-33</td>\n",
              "      <td>17</td>\n",
              "      <td>1</td>\n",
              "      <td>33</td>\n",
              "      <td>1</td>\n",
              "      <td>7.911329</td>\n",
              "      <td>6.131906</td>\n",
              "      <td>2.666209</td>\n",
              "      <td>1.830442</td>\n",
              "      <td>0.936273</td>\n",
              "    </tr>\n",
              "    <tr>\n",
              "      <th>3</th>\n",
              "      <td>48</td>\n",
              "      <td>Susan Davis</td>\n",
              "      <td>41</td>\n",
              "      <td>68</td>\n",
              "      <td>192</td>\n",
              "      <td>stranger</td>\n",
              "      <td>0.610546</td>\n",
              "      <td>1</td>\n",
              "      <td>1.362031</td>\n",
              "      <td>2.357013</td>\n",
              "      <td>...</td>\n",
              "      <td>-20</td>\n",
              "      <td>13</td>\n",
              "      <td>1</td>\n",
              "      <td>44</td>\n",
              "      <td>1</td>\n",
              "      <td>4.276733</td>\n",
              "      <td>6.937140</td>\n",
              "      <td>2.099999</td>\n",
              "      <td>2.449324</td>\n",
              "      <td>0.954769</td>\n",
              "    </tr>\n",
              "    <tr>\n",
              "      <th>4</th>\n",
              "      <td>5</td>\n",
              "      <td>Mary Wilson</td>\n",
              "      <td>55</td>\n",
              "      <td>70</td>\n",
              "      <td>175</td>\n",
              "      <td>stranger</td>\n",
              "      <td>0.419857</td>\n",
              "      <td>1</td>\n",
              "      <td>1.752331</td>\n",
              "      <td>4.835900</td>\n",
              "      <td>...</td>\n",
              "      <td>-4</td>\n",
              "      <td>28</td>\n",
              "      <td>1</td>\n",
              "      <td>56</td>\n",
              "      <td>1</td>\n",
              "      <td>4.753111</td>\n",
              "      <td>2.589281</td>\n",
              "      <td>1.116569</td>\n",
              "      <td>2.464788</td>\n",
              "      <td>0.921019</td>\n",
              "    </tr>\n",
              "  </tbody>\n",
              "</table>\n",
              "<p>5 rows × 23 columns</p>\n",
              "</div>"
            ],
            "text/plain": [
              "   suspect_id   suspect_name  age  height  weight relationship_to_victim  \\\n",
              "0           4   Daniel Jones   53      69     165              colleague   \n",
              "1          29    Karen White   44      74     167              colleague   \n",
              "2          16  Thomas Garcia   42      66     185               stranger   \n",
              "3          48    Susan Davis   41      68     192               stranger   \n",
              "4           5    Mary Wilson   55      70     175               stranger   \n",
              "\n",
              "   physical_capability  access_to_scene  alibi_strength  motive_strength  ...  \\\n",
              "0             0.441861                1        0.374242         5.703339  ...   \n",
              "1             0.627642                1        0.471421         4.113072  ...   \n",
              "2             0.648821                1        1.251484         6.308535  ...   \n",
              "3             0.610546                1        1.362031         2.357013  ...   \n",
              "4             0.419857                1        1.752331         4.835900  ...   \n",
              "\n",
              "   time_of_arrival  time_of_departure  at_scene_during_murder  time_at_scene  \\\n",
              "0              -33                  4                       1             20   \n",
              "1              -14                  9                       1             20   \n",
              "2              -33                 17                       1             33   \n",
              "3              -20                 13                       1             44   \n",
              "4               -4                 28                       1             56   \n",
              "\n",
              "   had_opportunity  witness_testimony  camera_evidence  suspicious_behavior  \\\n",
              "0                1           3.311828         4.032132             0.566340   \n",
              "1                1           4.279564         3.153876             1.359889   \n",
              "2                1           7.911329         6.131906             2.666209   \n",
              "3                1           4.276733         6.937140             2.099999   \n",
              "4                1           4.753111         2.589281             1.116569   \n",
              "\n",
              "   inconsistent_statements  guilt_score  \n",
              "0                 1.195932     0.951991  \n",
              "1                 1.425823     0.903476  \n",
              "2                 1.830442     0.936273  \n",
              "3                 2.449324     0.954769  \n",
              "4                 2.464788     0.921019  \n",
              "\n",
              "[5 rows x 23 columns]"
            ]
          },
          "execution_count": 3,
          "metadata": {},
          "output_type": "execute_result"
        }
      ],
      "source": [
        "# Load the previous case files\n",
        "previous_cases_file = 'data/previous_murders_training_data.csv'\n",
        "previous_cases = pd.read_csv(previous_cases_file)\n",
        "\n",
        "# Display the first few rows to understand the data structure\n",
        "previous_cases.head()"
      ]
    },
    {
      "cell_type": "markdown",
      "metadata": {},
      "source": [
        "**Detective's Note**: _These previous cases contain a 'guilt_score' column which indicates how likely each suspect was to have committed the crime (higher values = more likely to be guilty). The other columns represent evidence, characteristics, and circumstances surrounding each suspect._"
      ]
    },
    {
      "cell_type": "code",
      "execution_count": null,
      "metadata": {},
      "outputs": [],
      "source": [
        "# Examine the structure of the previous cases\n",
        "# 1. Print the dataset shape\n",
        "# YOUR CODE HERE\n",
        "\n",
        "# 2. Check for missing values\n",
        "# YOUR CODE HERE\n",
        "\n",
        "# 3. Examine the distribution of guilt scores\n",
        "# YOUR CODE HERE\n",
        "\n",
        "# Plot the distribution of guilt scores\n",
        "# YOUR CODE HERE"
      ]
    },
    {
      "cell_type": "code",
      "execution_count": null,
      "metadata": {},
      "outputs": [],
      "source": [
        "# Let's examine if there are any extremely high guilt scores \n",
        "# This might tell us something about how guilt is distributed\n",
        "# YOUR CODE HERE"
      ]
    },
    {
      "cell_type": "code",
      "execution_count": null,
      "metadata": {},
      "outputs": [],
      "source": [
        "# Create a heatmap to visualize the correlation between features and guilt\n",
        "# 1. Select the numeric columns\n",
        "# YOUR CODE HERE\n",
        "\n",
        "# 2. Calculate the correlation matrix\n",
        "# YOUR CODE HERE\n",
        "\n",
        "# 3. Create a heatmap visualization\n",
        "# YOUR CODE HERE\n",
        "\n",
        "# Look at the top correlations with guilt_score specifically\n",
        "# YOUR CODE HERE"
      ]
    },
    {
      "cell_type": "markdown",
      "metadata": {},
      "source": [
        "**Detective's Note**: _Take a close look at the distribution of guilt scores. Notice anything interesting about the shape? Also, when examining correlations, remember that overall correlations might not tell the whole story. Sometimes, what matters is a specific combination of factors rather than individual relationships. The best detectives know that criminals don't always leave obvious clues._"
      ]
    },
    {
      "cell_type": "markdown",
      "metadata": {},
      "source": [
        "**Group Discussion (5 minutes)**: \n",
        "- What factors appear to be correlated with guilt in previous cases?\n",
        "- What evidence would you prioritize if you were investigating a new case?"
      ]
    },
    {
      "cell_type": "markdown",
      "metadata": {},
      "source": [
        "## Part 2: Building Detective Models\n",
        "\n",
        "![Detective at Desk](data/assets/4.png)\n",
        "\n",
        "**Detective's Note**: _Now that we understand the previous cases, let's build different detective models to learn patterns of guilt. Each model has its own approach to analyzing evidence. Just as detectives may approach a case with different investigation styles, each model may identify different suspects as the most likely culprit._"
      ]
    },
    {
      "cell_type": "code",
      "execution_count": null,
      "metadata": {},
      "outputs": [],
      "source": [
        "# Prepare previous cases data for modeling\n",
        "# 1. Separate features (X) and target (y = guilt_score)\n",
        "# YOUR CODE HERE\n",
        "\n",
        "# 2. Handle categorical variables using one-hot encoding\n",
        "# YOUR CODE HERE\n",
        "\n",
        "# 3. Split data into training and validation sets\n",
        "# YOUR CODE HERE\n",
        "\n",
        "# 4. Standardize numerical features\n",
        "# YOUR CODE HERE"
      ]
    },
    {
      "cell_type": "markdown",
      "metadata": {},
      "source": [
        "### Detective Model 1: Linear Regression\n",
        "\n",
        "**Detective's Note**: _This model analyzes evidence by looking at the overall relationships between each piece of evidence and guilt. It treats all data points equally and focuses on average patterns rather than specific combinations of evidence. Think of this as a detective who considers all evidence equally important and calculates an overall suspicion level._"
      ]
    },
    {
      "cell_type": "code",
      "execution_count": null,
      "metadata": {},
      "outputs": [],
      "source": [
        "# Train a linear regression model on previous cases\n",
        "# 1. Create and fit a linear regression model\n",
        "# YOUR CODE HERE\n",
        "\n",
        "# 2. Evaluate model performance (R²)\n",
        "# YOUR CODE HERE\n",
        "\n",
        "# 3. Examine coefficients to see what evidence this model values\n",
        "# YOUR CODE HERE\n",
        "\n",
        "# 4. Visualize the most important features\n",
        "# YOUR CODE HERE"
      ]
    },
    {
      "cell_type": "markdown",
      "metadata": {},
      "source": [
        "### Detective Model 2: Decision Tree\n",
        "\n",
        "**Detective's Note**: _This model works like a detective asking a series of yes/no questions about the evidence to determine guilt. It can find patterns in specific combinations of evidence that might be missed by linear models. Imagine a detective who follows a step-by-step reasoning process, looking for critical decision points._"
      ]
    },
    {
      "cell_type": "code",
      "execution_count": null,
      "metadata": {},
      "outputs": [],
      "source": [
        "# Train a decision tree regression model\n",
        "# 1. Create and fit a decision tree regressor\n",
        "# Experiment with different max_depth values\n",
        "# YOUR CODE HERE\n",
        "\n",
        "# 2. Evaluate model performance (R²)\n",
        "# YOUR CODE HERE\n",
        "\n",
        "# 3. Extract and visualize feature importance\n",
        "# YOUR CODE HERE\n",
        "\n",
        "# 4. Visualize the tree structure (optional)\n",
        "# YOUR CODE HERE"
      ]
    },
    {
      "cell_type": "markdown",
      "metadata": {},
      "source": [
        "### Detective Model 3: Random Forest\n",
        "\n",
        "**Detective's Note**: _This model is like a team of detectives, each examining the evidence from a slightly different angle, then coming together to make a final determination. Random Forests might spot important patterns that could be overlooked by a single detective. This approach is particularly good at identifying critical evidence amid a lot of noise._"
      ]
    },
    {
      "cell_type": "code",
      "execution_count": null,
      "metadata": {},
      "outputs": [],
      "source": [
        "# Train a random forest regression model\n",
        "# 1. Create and fit a random forest regressor\n",
        "# Try different combinations of n_estimators and max_depth\n",
        "# YOUR CODE HERE\n",
        "\n",
        "# 2. Evaluate model performance (R²)\n",
        "# YOUR CODE HERE\n",
        "\n",
        "# 3. Extract and visualize feature importance\n",
        "# YOUR CODE HERE"
      ]
    },
    {
      "cell_type": "markdown",
      "metadata": {},
      "source": [
        "### Testing Model Performance on High-Guilt Cases\n",
        "![Detective at Desk](data/assets/3.png)\n",
        "\n",
        "**Detective's Note**: _A good detective should be able to spot a murderer with overwhelming evidence against them. Let's see how our models perform on cases with very high guilt scores._"
      ]
    },
    {
      "cell_type": "code",
      "execution_count": null,
      "metadata": {},
      "outputs": [],
      "source": [
        "# Check how our models perform on high guilt cases\n",
        "# Try to identify how well each model identifies the most obvious criminals\n",
        "# YOUR CODE HERE"
      ]
    },
    {
      "cell_type": "code",
      "execution_count": null,
      "metadata": {},
      "outputs": [],
      "source": [
        "# Compare model performances\n",
        "# 1. Create a comparison visualization of all three model performances\n",
        "# YOUR CODE HERE\n",
        "\n",
        "# 2. Compare which features each model considers most important\n",
        "# YOUR CODE HERE"
      ]
    },
    {
      "cell_type": "markdown",
      "metadata": {},
      "source": [
        "**Group Discussion (10 minutes)**:\n",
        "- Which model performed best on previous cases?\n",
        "- What evidence did each model consider most important?\n",
        "- Why might different models value different types of evidence?\n",
        "- What kinds of evidence patterns might tree-based models detect that linear models cannot?\n",
        "- In a detective context, why might it be important to look at both overall patterns and specific combinations of evidence?"
      ]
    },
    {
      "cell_type": "markdown",
      "metadata": {},
      "source": [
        "## Part 3: Investigating the Current Case\n",
        "\n",
        "**Detective's Note**: _Now it's time to apply our trained detective models to the current murder case. Let's load the evidence and see who each model identifies as the most likely culprit. Remember that a savvy criminal might try to appear innocent in most ways, with only a few tell-tale signs of guilt._"
      ]
    },
    {
      "cell_type": "code",
      "execution_count": null,
      "metadata": {},
      "outputs": [],
      "source": [
        "# Load the current case evidence\n",
        "current_case_file = 'data/current_murder_evidence.csv'\n",
        "current_evidence = pd.read_csv(current_case_file)\n",
        "\n",
        "# Display the first few rows\n",
        "current_evidence.head()"
      ]
    },
    {
      "cell_type": "code",
      "execution_count": null,
      "metadata": {},
      "outputs": [],
      "source": [
        "# Examine the structure of the current evidence\n",
        "# 1. Check the dataset shape\n",
        "# YOUR CODE HERE\n",
        "\n",
        "# 2. Identify the suspects in this case\n",
        "# YOUR CODE HERE\n",
        "\n",
        "# 3. Check for any missing values or other data issues\n",
        "# YOUR CODE HERE"
      ]
    },
    {
      "cell_type": "code",
      "execution_count": null,
      "metadata": {},
      "outputs": [],
      "source": [
        "# Prepare the current case data for prediction\n",
        "# 1. Apply the same preprocessing steps used on the previous cases\n",
        "# YOUR CODE HERE\n",
        "\n",
        "# 2. Handle categorical variables with one-hot encoding\n",
        "# YOUR CODE HERE\n",
        "\n",
        "# 3. Ensure feature columns match those used in training\n",
        "# YOUR CODE HERE\n",
        "\n",
        "# 4. Apply the same scaling to numeric features\n",
        "# YOUR CODE HERE"
      ]
    },
    {
      "cell_type": "code",
      "execution_count": null,
      "metadata": {},
      "outputs": [],
      "source": [
        "# Apply each model to predict guilt scores for the current case\n",
        "# 1. Use each trained model to predict guilt scores\n",
        "# YOUR CODE HERE\n",
        "\n",
        "# 2. Add these predictions to the evidence dataframe\n",
        "# YOUR CODE HERE\n",
        "\n",
        "# Display a few predictions\n",
        "# YOUR CODE HERE"
      ]
    },
    {
      "cell_type": "markdown",
      "metadata": {},
      "source": [
        "## Part 4: Solving the Case\n",
        "\n",
        "![Case Solved](data/assets/5.png)\n",
        "\n",
        "**Detective's Note**: _Now that we have predictions from our models, we need to analyze them carefully to determine who is most likely guilty. In detective work, you should consider both patterns of suspicious behavior and any \"smoking gun\" evidence. A suspect might appear mostly innocent but have one or two pieces of very incriminating evidence._"
      ]
    },
    {
      "cell_type": "code",
      "execution_count": null,
      "metadata": {},
      "outputs": [],
      "source": [
        "# Calculate average predicted guilt for each suspect by each model\n",
        "# 1. Group by suspect_name and compute mean for each model's predictions\n",
        "# YOUR CODE HERE\n",
        "\n",
        "# 2. Create a comparison table showing each model's top suspects\n",
        "# YOUR CODE HERE\n",
        "\n",
        "# 3. Create rankings for each model\n",
        "# YOUR CODE HERE"
      ]
    },
    {
      "cell_type": "code",
      "execution_count": null,
      "metadata": {},
      "outputs": [],
      "source": [
        "# Consider looking at maximum guilt scores as well as averages\n",
        "# This can help identify suspects with any \"smoking gun\" evidence\n",
        "# YOUR CODE HERE"
      ]
    },
    {
      "cell_type": "code",
      "execution_count": null,
      "metadata": {},
      "outputs": [],
      "source": [
        "# Create a visualization comparing the suspects across models\n",
        "# 1. Try different visualization approaches (bar charts, heatmaps, etc.)\n",
        "# YOUR CODE HERE\n",
        "\n",
        "# 2. Consider visualizing both average and maximum guilt scores\n",
        "# YOUR CODE HERE"
      ]
    },
    {
      "cell_type": "markdown",
      "metadata": {},
      "source": [
        "**Detective's Note**: _Do the models agree on the prime suspect, or are they pointing to different people? If they disagree, try to understand why. Look for any suspects with extremely high guilt scores on specific pieces of evidence - this could be the \"smoking gun\" that cracks the case!_"
      ]
    },
    {
      "cell_type": "code",
      "execution_count": null,
      "metadata": {},
      "outputs": [],
      "source": [
        "# Analyze evidence patterns for the top suspects\n",
        "# 1. Extract the evidence for the top suspects from each model\n",
        "# YOUR CODE HERE\n",
        "\n",
        "# 2. Compare their evidence profiles\n",
        "# YOUR CODE HERE\n",
        "\n",
        "# 3. Look for any particularly incriminating evidence points\n",
        "# YOUR CODE HERE"
      ]
    },
    {
      "cell_type": "code",
      "execution_count": null,
      "metadata": {},
      "outputs": [],
      "source": [
        "# Examine the distribution of guilt scores for your top suspects\n",
        "# This can help identify if there are outlier data points with very high guilt\n",
        "# YOUR CODE HERE"
      ]
    },
    {
      "cell_type": "markdown",
      "metadata": {},
      "source": [
        "## Case Closed: Final Report\n",
        "\n",
        "**Detective's Note**: Based on your investigation, prepare a final report in the ReadMe.MD File\n",
        "\n",
        "\n",
        "![Detective at Desk](data/assets/6.png)"
      ]
    }
  ],
  "metadata": {
    "kernelspec": {
      "display_name": ".env",
      "language": "python",
      "name": "python3"
    },
    "language_info": {
      "codemirror_mode": {
        "name": "ipython",
        "version": 3
      },
      "file_extension": ".py",
      "mimetype": "text/x-python",
      "name": "python",
      "nbconvert_exporter": "python",
      "pygments_lexer": "ipython3",
      "version": "3.13.2"
    }
  },
  "nbformat": 4,
  "nbformat_minor": 4
}
